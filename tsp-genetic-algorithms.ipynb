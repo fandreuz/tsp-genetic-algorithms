{
 "cells": [
  {
   "attachments": {},
   "cell_type": "markdown",
   "id": "1c2337eb",
   "metadata": {},
   "source": [
    "# Traveling Salesman Problem via Genetic algorithms\n",
    "\n",
    "Francesco Andreuzzi -- Data Science and Scientific Computing\n",
    "\n",
    "Final project for the course \"Computational Physics Laboratory\" (2022/2023)\n",
    "\n",
    "## The problem\n",
    "\n",
    "The Traveling Salesman Problem (TSP) is a well known problem in Computer Science. It consists in finding the optimal (i.e. cheapest) tour which visits all cities in the instance, given a matrix of costs to travel from one to another. \n",
    "$$\n",
    "\\normalsize\n",
    "\\begin{align*}\n",
    "\\text{Minimize}& \\qquad \\sum_{i=1}^N \\sum_{j=1}^N x_{ij} d_{ij} \\\\\n",
    "\\text{with}& \\qquad \\sum_{j=1}^N x_{ij} = 1 \\qquad i = 1, \\dots N \\quad (\\text{Exactly one incoming})\\\\\n",
    "& \\qquad \\sum_{i=1}^N x_{ij} = 1 \\qquad j = 1 \\dots N \\quad (\\text{Exactly one outgoing})\n",
    "\\end{align*}\n",
    "$$\n",
    "\n",
    "It's NP-hard, therefore exact algorithms are unfeasible for non-trivial instances.\n",
    "\n",
    "## Genetic algorithms overview\n",
    "\n",
    "Genetic algorithms (GA) are approximation randomized algorithms which iteratively optimize a partial set of viable solutions to a given problem, often called *chromosomes*. The optimization is carried out on a given *fitness* function, which in our case is the cost of a given tour.\n",
    "\n",
    "Optimization happens by a peculiar process called *crossover*, which consists in merging two parent solutions into a new one, hopefully retained the best parts of the ancestors. Many *crossover operators* exist for the TSP problem, some of them are fully deterministic (e.g. `CX`, `CX2`), while others are based on a stochastic component (e.g. `OX`, `PMX`).\n",
    "\n",
    "In addition to crossover, to further mimic natural biological evolution, GA leverage *mutation* to slightly modify a subset of exising chromosomes (choosed randomly). This often provides solutions not easily achievable by means of crossover, and is critical in fully exploring the solution manifold. Due to their intrinsic stochastic definition, mutation operator are always randomized procedures which operate on a single chromosome.\n",
    "\n",
    "## Structure of the project\n",
    "\n",
    "We briefly describe the structure of the GitHub repository.\n",
    "\n",
    "### Languages\n",
    "\n",
    "The problem was tackled using Python and Fortran 90, leveraging [f2py](https://numpy.org/doc/stable/f2py/index.html) to link the two languages. Python was used to develop the high level driver for the genetic framework, the problem loading and the data collection layer, and to perform final data analysis, due to its strong versatility. Fortran was used to develop the low-level mutation and crossover operators.\n",
    "\n",
    "Thanks to the link between Python and Fortran it has been possible to test the fortran code by using the high level Python testing framework [pytest](https://pytest.org), which among standard testing traits provides many comfortable features like a rich CLI and [fixtures](https://docs.pytest.org/en/6.2.x/fixture.html).\n",
    "\n",
    "### Directories\n",
    "\n",
    "```diff\n",
    "$ tree -I 'venv|__pycache__|*.mod' --dirsfirst\n",
    ".\n",
    "├── data\n",
    "-   │   # Problem data in XML format\n",
    "│   │   ...\n",
    "├── data-loader\n",
    "-   │   # Responsible for loading problem data from XML\n",
    "│   ├── load.py\n",
    "-   │   # Problem representation as a Python class\n",
    "│   └── problem.py\n",
    "├── run\n",
    "-   │   # Argparse CLI + utilities (logging, text display)\n",
    "│   ├── data_storage.py\n",
    "│   ├── printer.py\n",
    "│   ├── run.py\n",
    "│   └── utils.py\n",
    "├── tests\n",
    "-   │   # Pytest testing for low-level Fortran routines\n",
    "│   ├── crossover\n",
    "│   │   ├── test_crossover.py\n",
    "│   │   ├── test_cx2-original.py\n",
    "│   │   ├── test_cx2.py\n",
    "│   │   ├── test_cx.py\n",
    "│   │   ├── test_ox.py\n",
    "│   │   └── test_pmx.py\n",
    "│   ├── mutation\n",
    "│   │   ├── test_central_inverse.py\n",
    "│   │   ├── test_mutation.py\n",
    "│   │   ├── test_reverse_sequence.py\n",
    "│   │   └── test_twors.py\n",
    "│   ├── test_problem.py\n",
    "│   └── test_utils.py\n",
    "├── tsp-genetic-f90\n",
    "-   │   # Fortran implementation of low-level operators\n",
    "│   ├── crossover\n",
    "│   │   ├── cx2.f90\n",
    "│   │   ├── cx2-original.f90\n",
    "│   │   ├── cx.f90\n",
    "│   │   ├── ox.f90\n",
    "│   │   └── pmx.f90\n",
    "│   ├── mutation\n",
    "│   │   ├── central_inverse.f90\n",
    "│   │   ├── reverse_sequence.f90\n",
    "│   │   └── twors.f90\n",
    "│   ├── problem.f90\n",
    "│   └── utils.f90\n",
    "├── tsp-genetic-py\n",
    "-   │   # Genetic framework implementation\n",
    "│   ├── configuration.py\n",
    "│   ├── crossover.py\n",
    "│   ├── evolve.py\n",
    "│   ├── idata_logger.py\n",
    "│   └── mutation.py\n",
    "├── LICENSE\n",
    "├── Makefile\n",
    "├── README.md\n",
    "-   # We are here\n",
    "├── tsp-genetic-algorithms.ipynb\n",
    "-   # Fortran code compiled with f2py\n",
    "└── tsp_genetic.cpython-39-x86_64-linux-gnu.so\n",
    "```"
   ]
  },
  {
   "cell_type": "code",
   "execution_count": 2,
   "id": "df3d3b30",
   "metadata": {},
   "outputs": [],
   "source": [
    "import sys\n",
    "import numpy as np\n",
    "from pathlib import Path\n",
    "\n",
    "sys.path.append(\"tsp-genetic-py\")\n",
    "from evolve import driver\n",
    "from configuration import (\n",
    "    Configuration,\n",
    "    CrossoverStrategy,\n",
    "    CrossoverRetainment,\n",
    "    NextGenerationPolicy,\n",
    ")\n",
    "from crossover import Crossover\n",
    "from mutation import Mutation\n",
    "\n",
    "sys.path.append(\"run\")\n",
    "from printer import Printer\n",
    "from data_storage import DataStorage"
   ]
  },
  {
   "cell_type": "markdown",
   "id": "d2de7d6f",
   "metadata": {},
   "source": [
    "## Implementation of `CX2`\n",
    "\n",
    "The MATLAB code in [3] proposed as the official implementation of `CX2` is clearly inefficient due to the frequent restort to the `find()` function, which is $\\Theta(N)$. Since the crossover requires a linear scan of the array, the implementation in [3] is $\\Theta(N^2)$.\n",
    "\n",
    "For this reason we re-implemented it by leveraging a pre-built index, which makes the function $\\Theta(N)$."
   ]
  },
  {
   "cell_type": "code",
   "execution_count": 5,
   "id": "b8812015",
   "metadata": {},
   "outputs": [
    {
     "data": {
      "application/vnd.jupyter.widget-view+json": {
       "model_id": "16694f36eb5740e9aaa9d910a168aaaa",
       "version_major": 2,
       "version_minor": 0
      },
      "text/plain": [
       "Output()"
      ]
     },
     "metadata": {},
     "output_type": "display_data"
    },
    {
     "data": {
      "text/html": [
       "<pre style=\"white-space:pre;overflow-x:auto;line-height:normal;font-family:Menlo,'DejaVu Sans Mono',consolas,'Courier New',monospace\"></pre>\n"
      ],
      "text/plain": []
     },
     "metadata": {},
     "output_type": "display_data"
    },
    {
     "data": {
      "text/html": [
       "<pre style=\"white-space:pre;overflow-x:auto;line-height:normal;font-family:Menlo,'DejaVu Sans Mono',consolas,'Courier New',monospace\">\n",
       "</pre>\n"
      ],
      "text/plain": [
       "\n"
      ]
     },
     "metadata": {},
     "output_type": "display_data"
    },
    {
     "data": {
      "image/png": "[encoded data removed]",
      "text/plain": [
       "<Figure size 640x480 with 1 Axes>"
      ]
     },
     "metadata": {},
     "output_type": "display_data"
    }
   ],
   "source": [
    "from tsp_genetic import cx2, cx2_original\n",
    "import perfplot\n",
    "\n",
    "perfplot.show(\n",
    "    setup=lambda n: ((np.random.permutation(n) + 1, np.random.permutation(n) + 1),),\n",
    "    kernels=[\n",
    "        lambda a: cx2_original(*a),\n",
    "        lambda a: cx2(*a),\n",
    "    ],\n",
    "    labels=[\"Original\", \"With index\"],\n",
    "    n_range=[2**k for k in range(15)],\n",
    "    show_progress=False,\n",
    ")"
   ]
  },
  {
   "cell_type": "markdown",
   "id": "b095ea0f",
   "metadata": {},
   "source": [
    "# Conclusion\n",
    "\n",
    "## Unexplored directions\n",
    "\n",
    "It could be interesting to take into account various ways to generate the initial generation of chromosomes. In this project we've only considered the randomized permutation of the list of cities, but more refined approaches exist to guarantee a better coverage on the solution manifold.\n",
    "\n",
    "## References\n",
    "\n",
    "1. Deep, Kusum, and Hadush Mebrahtu. \"New variations of order crossover for travelling salesman problem.\" International Journal of Combinatorial Optimization Problems and Informatics 2.1 (2011): 2-13.\n",
    "1. Potvin, Jean-Yves. \"Genetic algorithms for the traveling salesman problem.\" Annals of Operations Research 63 (1996): 337-370.\n",
    "1. Hussain, Abid, et al. \"Genetic algorithm for traveling salesman problem with modified cycle crossover operator.\" Computational intelligence and neuroscience 2017 (2017).\n",
    "1. Kumar, Rakesh, Girdhar Gopal, and Rajesh Kumar. \"Novel crossover operator for genetic algorithm for permutation problems.\" International Journal of Soft Computing and Engineering (IJSCE) 3.2 (2013): 252-258.\n",
    "1. Abdoun, Otman, Jaafar Abouchabaka, and Chakir Tajani. \"Analyzing the performance of mutation operators to solve the travelling salesman problem.\" arXiv preprint arXiv:1203.3099 (2012).\n",
    "1. Hassanat, Ahmad, et al. \"Choosing mutation and crossover ratios for genetic algorithms—a review with a new dynamic approach.\" Information 10.12 (2019): 390.\n",
    "1. f2py official documentation: https://numpy.org/doc/stable/f2py/\n",
    "\n",
    "## Open source software\n",
    "\n",
    "- argparse: https://docs.python.org/3/library/argparse.html\n",
    "- f2py: https://numpy.org/doc/stable/f2py/\n",
    "- Matplotlib: https://matplotlib.org\n",
    "- NumPy: https://numpy.org\n",
    "- Python standard library: https://docs.python.org/3/library/\n",
    "- pytest: https://pytest.org"
   ]
  }
 ],
 "metadata": {
  "kernelspec": {
   "display_name": "Python 3 (ipykernel)",
   "language": "python",
   "name": "python3"
  },
  "language_info": {
   "codemirror_mode": {
    "name": "ipython",
    "version": 3
   },
   "file_extension": ".py",
   "mimetype": "text/x-python",
   "name": "python",
   "nbconvert_exporter": "python",
   "pygments_lexer": "ipython3",
   "version": "3.9.16"
  }
 },
 "nbformat": 4,
 "nbformat_minor": 5
}
