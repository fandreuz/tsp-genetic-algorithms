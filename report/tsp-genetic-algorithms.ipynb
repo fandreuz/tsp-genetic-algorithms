{
 "cells": [
  {
   "cell_type": "markdown",
   "id": "1c2337eb",
   "metadata": {},
   "source": [
    "# Traveling Salesman Problem via Genetic algorithms\n",
    "\n",
    "Francesco Andreuzzi -- Data Science and Scientific Computing\n",
    "\n",
    "Final project for the course \"Computational Physics Laboratory\" (2022/2023)\n",
    "\n",
    "## The problem\n",
    "\n",
    "The Traveling Salesman Problem (TSP) is a well known problem in Computer Science. It consists in finding the optimal (i.e. cheapest) tour which visits all cities in the instance, given a matrix of costs to travel from one to another. \n",
    "$$\n",
    "\\normalsize\n",
    "\\begin{align*}\n",
    "\\text{Minimize}& \\qquad \\sum_{i=1}^N \\sum_{j=1}^N x_{ij} d_{ij} \\\\\n",
    "\\text{with}& \\qquad \\sum_{j=1}^N x_{ij} = 1 \\qquad i = 1, \\dots N \\quad (\\text{Exactly one incoming})\\\\\n",
    "& \\qquad \\sum_{i=1}^N x_{ij} = 1 \\qquad j = 1 \\dots N \\quad (\\text{Exactly one outgoing})\n",
    "\\end{align*}\n",
    "$$\n",
    "\n",
    "It's NP-hard, therefore exact algorithms are unfeasible for non-trivial instances.\n",
    "\n",
    "## Genetic algorithms overview\n",
    "\n",
    "Genetic algorithms (GA) are approximation randomized algorithms which iteratively optimize a partial set of viable solutions to a given problem, often called *chromosomes*. The optimization is carried out on a given *fitness* function, which in our case is the cost of a given tour.\n",
    "\n",
    "Optimization happens by a peculiar process called *crossover*, which consists in merging two parent solutions into a new one, hopefully retained the best parts of the ancestors. Many *crossover operators* exist for the TSP problem, some of them are fully deterministic (e.g. `CX`, `CX2`), while others are based on a stochastic component (e.g. `OX`, `PMX`).\n",
    "\n",
    "In addition to crossover, to further mimic natural biological evolution, GA leverage *mutation* to slightly modify a subset of exising chromosomes (choosed randomly). This often provides solutions not easily achievable by means of crossover, and is critical in fully exploring the solution manifold. Due to their intrinsic stochastic definition, mutation operator are always randomized procedures which operate on a single chromosome.\n",
    "\n",
    "## Structure of the project\n",
    "\n",
    "We briefly describe the structure of the GitHub repository.\n",
    "\n",
    "### Languages\n",
    "\n",
    "The problem was tackled using Python and Fortran 90, leveraging [f2py](https://numpy.org/doc/stable/f2py/index.html) to link the two languages. Python was used to develop the high level driver for the genetic framework, the problem loading and the data collection layer, and to perform final data analysis, due to its strong versatility. Fortran was used to develop the low-level mutation and crossover operators.\n",
    "\n",
    "Thanks to the link between Python and Fortran it has been possible to test the fortran code by using the high level Python testing framework [pytest](https://pytest.org), which among standard testing traits provides many comfortable features like a rich CLI and [fixtures](https://docs.pytest.org/en/6.2.x/fixture.html).\n",
    "\n",
    "### Directories\n",
    "\n",
    "```diff\n",
    "$ tree -I 'venv|__pycache__|*.mod' --dirsfirst\n",
    ".\n",
    "├── data\n",
    "-   │   # Problem data in XML format\n",
    "│   │   ...\n",
    "├── data-loader\n",
    "-   │   # Responsible for loading problem data from XML\n",
    "│   ├── load.py\n",
    "-   │   # Problem representation as a Python class\n",
    "│   └── problem.py\n",
    "├── run\n",
    "-   │   # Argparse CLI + utilities (logging, text display)\n",
    "│   ├── data_storage.py\n",
    "│   ├── printer.py\n",
    "│   ├── run.py\n",
    "│   └── utils.py\n",
    "├── tests\n",
    "-   │   # Pytest testing for low-level Fortran routines\n",
    "│   ├── crossover\n",
    "│   │   ├── test_crossover.py\n",
    "│   │   ├── test_cx2-original.py\n",
    "│   │   ├── test_cx2.py\n",
    "│   │   ├── test_cx.py\n",
    "│   │   ├── test_ox.py\n",
    "│   │   └── test_pmx.py\n",
    "│   ├── mutation\n",
    "│   │   ├── test_central_inverse.py\n",
    "│   │   ├── test_mutation.py\n",
    "│   │   ├── test_reverse_sequence.py\n",
    "│   │   └── test_twors.py\n",
    "│   ├── test_problem.py\n",
    "│   └── test_utils.py\n",
    "├── tsp-genetic-f90\n",
    "-   │   # Fortran implementation of low-level operators\n",
    "│   ├── crossover\n",
    "│   │   ├── cx2.f90\n",
    "│   │   ├── cx2-original.f90\n",
    "│   │   ├── cx.f90\n",
    "│   │   ├── ox.f90\n",
    "│   │   └── pmx.f90\n",
    "│   ├── mutation\n",
    "│   │   ├── central_inverse.f90\n",
    "│   │   ├── reverse_sequence.f90\n",
    "│   │   └── twors.f90\n",
    "│   ├── problem.f90\n",
    "│   └── utils.f90\n",
    "├── tsp-genetic-py\n",
    "-   │   # Genetic framework implementation\n",
    "│   ├── configuration.py\n",
    "│   ├── crossover.py\n",
    "│   ├── evolve.py\n",
    "│   ├── idata_logger.py\n",
    "│   └── mutation.py\n",
    "├── LICENSE\n",
    "├── Makefile\n",
    "├── README.md\n",
    "-   # We are here\n",
    "├── tsp-genetic-algorithms.ipynb\n",
    "-   # Fortran code compiled with f2py\n",
    "└── tsp_genetic.cpython-39-x86_64-linux-gnu.so\n",
    "```"
   ]
  },
  {
   "cell_type": "code",
   "execution_count": 1,
   "id": "df3d3b30",
   "metadata": {},
   "outputs": [],
   "source": [
    "import utils\n",
    "from configuration import Configuration"
   ]
  },
  {
   "cell_type": "markdown",
   "id": "6b6e9999",
   "metadata": {},
   "source": [
    "# High level objects\n",
    "We defined some high level objects to ease starting a genetic optimization run."
   ]
  },
  {
   "cell_type": "markdown",
   "id": "57d88041",
   "metadata": {},
   "source": [
    "## Problem object\n",
    "TSP problems are taken from the [TSPLIB](http://comopt.ifi.uni-heidelberg.de/software/TSPLIB95/) repository, and are stored in the directory `data/` of the project. We represent them in Python with the [dataclass](https://docs.python.org/3/library/dataclasses.html) `Problem`, which contains the fields `name`, `cost_matrix` and `optimal_tour`."
   ]
  },
  {
   "cell_type": "code",
   "execution_count": 3,
   "id": "4f939a64",
   "metadata": {},
   "outputs": [
    {
     "ename": "ModuleNotFoundError",
     "evalue": "No module named 'load'",
     "output_type": "error",
     "traceback": [
      "\u001b[0;31m---------------------------------------------------------------------------\u001b[0m",
      "\u001b[0;31mModuleNotFoundError\u001b[0m                       Traceback (most recent call last)",
      "Cell \u001b[0;32mIn[3], line 1\u001b[0m\n\u001b[0;32m----> 1\u001b[0m \u001b[38;5;28;01mfrom\u001b[39;00m \u001b[38;5;21;01mload\u001b[39;00m \u001b[38;5;28;01mimport\u001b[39;00m build_problem\n\u001b[1;32m      3\u001b[0m build_problem(\u001b[38;5;124m\"\u001b[39m\u001b[38;5;124ma280\u001b[39m\u001b[38;5;124m\"\u001b[39m)\n",
      "\u001b[0;31mModuleNotFoundError\u001b[0m: No module named 'load'"
     ]
    }
   ],
   "source": [
    "from load import build_problem\n",
    "\n",
    "build_problem(\"a280\")"
   ]
  },
  {
   "cell_type": "markdown",
   "id": "e4b9d78c",
   "metadata": {},
   "source": [
    "## Configuration\n",
    "\n",
    "We defined the dataclass `Configuration` to pack all needed configurations for a given genetic optimization run:"
   ]
  },
  {
   "cell_type": "code",
   "execution_count": 3,
   "id": "4e9d15fb",
   "metadata": {},
   "outputs": [
    {
     "data": {
      "text/plain": [
       "['population_size',\n",
       " 'elite_size',\n",
       " 'n_generations',\n",
       " 'mutation_operator',\n",
       " 'mutation_probability',\n",
       " 'mutation_function_degree',\n",
       " 'crossover_operator',\n",
       " 'crossover_strategy',\n",
       " 'crossover_retainment',\n",
       " 'next_generation_policy',\n",
       " 'print_every']"
      ]
     },
     "execution_count": 3,
     "metadata": {},
     "output_type": "execute_result"
    }
   ],
   "source": [
    "from configuration import Configuration\n",
    "from dataclasses import fields\n",
    "\n",
    "[field.name for field in fields(Configuration)]"
   ]
  },
  {
   "cell_type": "markdown",
   "id": "55bb79f3",
   "metadata": {},
   "source": [
    "# Genetic optimization\n",
    "\n",
    "- Crossover operators\n",
    "- Crossover strategy\n",
    "- Mutation operators\n",
    "- Mutation probability evolution\n",
    "- Next generation policy & elitism\n",
    "\n",
    "## Crossover operators\n",
    "\n",
    "First of all we need to define configurations for all the run we intend to perform."
   ]
  },
  {
   "cell_type": "code",
   "execution_count": 4,
   "id": "10f747f9",
   "metadata": {},
   "outputs": [],
   "source": [
    "from dataclasses import replace\n",
    "from configuration import (\n",
    "    Crossover,\n",
    "    CrossoverStrategy,\n",
    "    CrossoverRetainment,\n",
    "    NextGenerationPolicy,\n",
    ")\n",
    "from mutation import Mutation\n",
    "\n",
    "base_config = Configuration(\n",
    "    population_size=250,\n",
    "    elite_size=0,\n",
    "    n_generations=1000,\n",
    "    crossover_operator=None,\n",
    "    crossover_strategy=CrossoverStrategy.FITNESS_RANDOM_PAIRS,\n",
    "    crossover_retainment=CrossoverRetainment.FIRST,\n",
    "    next_generation_policy=NextGenerationPolicy.BEST,\n",
    "    mutation_operator=Mutation.TWORS,\n",
    "    mutation_probability=0.15,\n",
    "    mutation_function_degree=0,\n",
    "    print_every=100,\n",
    ")\n",
    "ox_config = replace(base_config, crossover_operator=Crossover.OX)\n",
    "pmx_config = replace(base_config, crossover_operator=Crossover.PMX)\n",
    "cx_config = replace(base_config, crossover_operator=Crossover.CX)\n",
    "cx2_config = replace(base_config, crossover_operator=Crossover.CX2)"
   ]
  },
  {
   "cell_type": "code",
   "execution_count": null,
   "id": "fdb96140",
   "metadata": {},
   "outputs": [],
   "source": [
    "from utils import run_optimizations\n",
    "\n",
    "N = 10\n",
    "problem = build_problem(\"a280\")\n",
    "ox_best_data, ox_mean_data = run_optimizations(N, problem, ox_config)\n",
    "pmx_best_data, pmx_mean_data = run_optimizations(N, problem, pmx_config)\n",
    "cx_best_data, cx_mean_data = run_optimizations(N, problem, cx_config)\n",
    "cx2_best_data, cx2_mean_data = run_optimizations(N, problem, cx2_config)"
   ]
  },
  {
   "cell_type": "code",
   "execution_count": null,
   "id": "b585bc27",
   "metadata": {},
   "outputs": [],
   "source": [
    "import numpy as np\n",
    "from utils import plot_data\n",
    "import matplotlib.pyplot as plt\n",
    "\n",
    "generations = base_config.print_every * np.arange(\n",
    "    1, base_config.n_generations // base_config.print_every + 1\n",
    ")\n",
    "\n",
    "plt.figure(figsize=(10, 6))\n",
    "plot_data(\n",
    "    generations,\n",
    "    (\"OX\", \"PMX\", \"CX\", \"CX2\"),\n",
    "    (ox_best_data, pmx_best_data, cx_best_data, cx2_best_data),\n",
    "    n_runs=N\n",
    ")"
   ]
  },
  {
   "cell_type": "markdown",
   "id": "d38c31a2",
   "metadata": {},
   "source": [
    "It's quite evident that operators `OX` and `PMX` achieve much better results. Indeed, such operators try to preserve the relative order in the path, as opposed to cyclic operators which often disrupt the sequence. This finding is widely accepted in literature ([2])."
   ]
  },
  {
   "cell_type": "markdown",
   "id": "25ce6590",
   "metadata": {},
   "source": [
    "## Mutation evolution\n",
    "\n",
    "As noted in [6], it's desirable to increase the mutation probability as the generation index increases, since the population of chromosomes tends to stagnate towards repeated high-fitness individuals. For this reason, extending the work presented in [6], we implemented a flexible evolution policy for the mutation probability, i.e. the probability that a given chromosome is subject to a mutation after crossover happens. The policy is parametrized by an integer number $k$, which acts as the polynomial degree of the function which describes the evolution of the probability in time.\n",
    "\n",
    "The mutation probability $m$ for the generation $g$ is computed as follows:\n",
    "$$\n",
    "\\normalsize\n",
    "m(g) = \\frac{M}{G^k} g^k\n",
    "$$\n",
    "\n",
    "given the total number of generations $G$ and the target mutation probability $M$."
   ]
  },
  {
   "cell_type": "code",
   "execution_count": null,
   "id": "907f5c7b",
   "metadata": {},
   "outputs": [],
   "source": [
    "import matplotlib.pyplot as plt\n",
    "from utils import setup_matplotlib\n",
    "\n",
    "setup_matplotlib()\n",
    "\n",
    "g = np.arange(501)\n",
    "M = 0.2\n",
    "\n",
    "\n",
    "def plot_evolution(k):\n",
    "    plt.plot(g, M / g[-1] ** k * g**k, label=f\"k={k}\")\n",
    "\n",
    "\n",
    "for i in range(6):\n",
    "    plot_evolution(i)\n",
    "\n",
    "plt.legend()\n",
    "\n",
    "plt.xlabel(\"Generation count\")\n",
    "plt.ylabel(\"m(g)\")\n",
    "plt.title(f\"M = {M}, G = {g[-1]}\")\n",
    "plt.grid()\n",
    "\n",
    "plt.show()"
   ]
  },
  {
   "cell_type": "markdown",
   "id": "0e0f8dc7",
   "metadata": {},
   "source": [
    "We now verify whether varying the mutation rate linearly, quadratically or cubically makes any difference in the best individual produced by the optimization. We're going to use again `OX` crossover as it was the best candidate of the previous experiment."
   ]
  },
  {
   "cell_type": "code",
   "execution_count": null,
   "id": "0bf1aa2d",
   "metadata": {},
   "outputs": [],
   "source": [
    "ox1_config = replace(ox_config, mutation_function_degree=1)\n",
    "ox2_config = replace(ox_config, mutation_function_degree=2)\n",
    "ox3_config = replace(ox_config, mutation_function_degree=3)\n",
    "\n",
    "ox1_best_data, ox1_best_data = run_optimizations(N, problem, ox1_config)\n",
    "ox2_best_data, ox2_best_data = run_optimizations(N, problem, ox2_config)\n",
    "ox3_best_data, ox3_best_data = run_optimizations(N, problem, ox3_config)"
   ]
  },
  {
   "cell_type": "code",
   "execution_count": null,
   "id": "dfde5539",
   "metadata": {},
   "outputs": [],
   "source": [
    "plt.figure(figsize=(10, 6))\n",
    "plot_data(\n",
    "    generations,\n",
    "    (\"OX\", \"OX - 1\", \"OX - 2\", \"OX - 3\"),\n",
    "    (ox_best_data, ox1_best_data, ox2_best_data, ox3_best_data),\n",
    "    should_plot_std=False,\n",
    "    n_runs=N\n",
    ");"
   ]
  },
  {
   "cell_type": "markdown",
   "id": "c75d12af",
   "metadata": {},
   "source": [
    "From the plot above, it looks like the well-known observation that varying the mutation probability throughout the optimization run has been confirmed, but there's not much difference in how it varies (at least as long as polynomial functions are taken into account).\n",
    "\n",
    "## Mutation operators\n",
    "We now turn to the selection of an optimal mutation operator, among those which we implemented as part of the project:\n",
    "- Twors (simple inversion)\n",
    "- Central inverse\n",
    "- Reverse sequence"
   ]
  },
  {
   "cell_type": "code",
   "execution_count": null,
   "id": "766e04ea",
   "metadata": {},
   "outputs": [],
   "source": [
    "ox_twors_config = replace(ox_config, mutation_function_degree=1)\n",
    "ox_ci_config = replace(ox_config, mutation_function_degree=1, mutation_operator=Mutation.CENTRAL_INVERSE)\n",
    "ox_rs_config = replace(ox_config, mutation_function_degree=1, mutation_operator=Mutation.REVERSE_SEQUENCE)\n",
    "\n",
    "ox_twors_best_data, ox1_best_data = run_optimizations(N, problem, ox_twors_config)\n",
    "ox_ci_best_data, ox2_best_data = run_optimizations(N, problem, ox_ci_config)\n",
    "ox_rs_best_data, ox3_best_data = run_optimizations(N, problem, ox_rs_config)"
   ]
  },
  {
   "cell_type": "code",
   "execution_count": null,
   "id": "2891c07e",
   "metadata": {},
   "outputs": [],
   "source": [
    "plt.figure(figsize=(10, 6))\n",
    "plot_data(\n",
    "    generations,\n",
    "    (\"Twors\", \"Central inverse\", \"Reverse sequence\"),\n",
    "    (ox_twors_best_data, ox_ci_best_data, ox_rs_best_data),\n",
    "    should_plot_std=False,\n",
    "    n_runs=N\n",
    ");"
   ]
  },
  {
   "cell_type": "markdown",
   "id": "1ab6990d",
   "metadata": {},
   "source": [
    "# Other topics\n",
    "\n",
    "## Implementation of `CX2`\n",
    "\n",
    "The MATLAB code in [3] proposed as the official implementation of `CX2` is clearly inefficient due to the frequent restort to the `find()` function, which is $\\Theta(N)$. Since the crossover requires a linear scan of the array, the implementation in [3] is $\\Theta(N^2)$.\n",
    "\n",
    "For this reason we re-implemented it by leveraging a pre-built index, which makes the function $\\Theta(N)$."
   ]
  },
  {
   "cell_type": "code",
   "execution_count": null,
   "id": "7a0d0d97",
   "metadata": {},
   "outputs": [],
   "source": [
    "from tsp_genetic import cx2, cx2_original\n",
    "import perfplot\n",
    "\n",
    "perfplot.show(\n",
    "    setup=lambda n: ((np.random.permutation(n) + 1, np.random.permutation(n) + 1),),\n",
    "    kernels=[\n",
    "        lambda a: cx2_original(*a),\n",
    "        lambda a: cx2(*a),\n",
    "    ],\n",
    "    labels=[\"Original\", \"With index\"],\n",
    "    n_range=[2**k for k in range(15)],\n",
    "    show_progress=False,\n",
    ")\n",
    "\n",
    "setup_matplotlib()"
   ]
  },
  {
   "cell_type": "markdown",
   "id": "b095ea0f",
   "metadata": {},
   "source": [
    "# Conclusion\n",
    "\n",
    "## Unexplored directions\n",
    "\n",
    "It could be interesting to take into account various ways to generate the initial generation of chromosomes. In this project we've only considered the randomized permutation of the list of cities, but more refined approaches exist to guarantee a better coverage on the solution manifold.\n",
    "\n",
    "## References\n",
    "\n",
    "1. Deep, Kusum, and Hadush Mebrahtu. \"New variations of order crossover for travelling salesman problem.\" International Journal of Combinatorial Optimization Problems and Informatics 2.1 (2011): 2-13.\n",
    "1. Potvin, Jean-Yves. \"Genetic algorithms for the traveling salesman problem.\" Annals of Operations Research 63 (1996): 337-370.\n",
    "1. Hussain, Abid, et al. \"Genetic algorithm for traveling salesman problem with modified cycle crossover operator.\" Computational intelligence and neuroscience 2017 (2017).\n",
    "1. Kumar, Rakesh, Girdhar Gopal, and Rajesh Kumar. \"Novel crossover operator for genetic algorithm for permutation problems.\" International Journal of Soft Computing and Engineering (IJSCE) 3.2 (2013): 252-258.\n",
    "1. Abdoun, Otman, Jaafar Abouchabaka, and Chakir Tajani. \"Analyzing the performance of mutation operators to solve the travelling salesman problem.\" arXiv preprint arXiv:1203.3099 (2012).\n",
    "1. Hassanat, Ahmad, et al. \"Choosing mutation and crossover ratios for genetic algorithms—a review with a new dynamic approach.\" Information 10.12 (2019): 390.\n",
    "1. f2py official documentation: https://numpy.org/doc/stable/f2py/\n",
    "\n",
    "## Open source software\n",
    "\n",
    "- argparse: https://docs.python.org/3/library/argparse.html\n",
    "- f2py: https://numpy.org/doc/stable/f2py/\n",
    "- Matplotlib: https://matplotlib.org\n",
    "- NumPy: https://numpy.org\n",
    "- Python standard library: https://docs.python.org/3/library/\n",
    "- pytest: https://pytest.org\n",
    "- perfplot: https://github.com/nschloe/perfplot"
   ]
  }
 ],
 "metadata": {
  "kernelspec": {
   "display_name": "Python 3 (ipykernel)",
   "language": "python",
   "name": "python3"
  },
  "language_info": {
   "codemirror_mode": {
    "name": "ipython",
    "version": 3
   },
   "file_extension": ".py",
   "mimetype": "text/x-python",
   "name": "python",
   "nbconvert_exporter": "python",
   "pygments_lexer": "ipython3",
   "version": "3.9.7"
  }
 },
 "nbformat": 4,
 "nbformat_minor": 5
}
